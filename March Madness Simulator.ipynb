{
 "cells": [
  {
   "cell_type": "code",
   "execution_count": 22,
   "metadata": {},
   "outputs": [],
   "source": [
    "import numpy as np\n",
    "import random\n",
    "from openpyxl import load_workbook"
   ]
  },
  {
   "cell_type": "code",
   "execution_count": 29,
   "metadata": {},
   "outputs": [
    {
     "name": "stdout",
     "output_type": "stream",
     "text": [
      "Virginia\n",
      "Gonzaga\n",
      "North Carolina\n",
      "Duke\n",
      "Michigan State\n",
      "Kentucky\n",
      "Michigan\n",
      "Tennessee\n",
      "Houston\n",
      "Texas Tech\n",
      "Old Dominion\n",
      "LSU\n",
      "Auburn\n",
      "Florida State\n",
      "Virginia Tech\n",
      "Mississippi State\n",
      "Nevada\n",
      "Oregon\n",
      "Cincinnati\n",
      "Kansas\n",
      "Saint Mary's\n",
      "Kansas State\n",
      "Minnesota\n",
      "Arizona State\n",
      "Iowa State\n",
      "Marquette\n",
      "Wofford\n",
      "Belmont\n",
      "Washington\n",
      "Virginia Commonwealth\n",
      "Ole Miss\n",
      "Baylor\n"
     ]
    }
   ],
   "source": [
    "wb = load_workbook('./March Madness Odds.xlsx')\n",
    "sheet = wb['Sheet1']\n",
    "r1pairs = {2:64, 3:59, 4:62, 5:63, 6:58, 7:60, 8:61, 9:57, 10:56, 11:65, 12:51, 13:53, 14:39, 15:46, 16:50,",
    "           17:54, 18:41, 19:38, 20:45, 21:43, 22:37, 23:48, 24:47, 25:33, 26:44, 27:42, 28:52, 29:32, 30:40, 31:55, 34:48, 35:36}\n",
    "\n",
    "for key in r1pairs:\n",
    "    team = sheet['A' + str(key)].value\n",
    "    pair = sheet['A' + str(r1pairs.get(key))].value\n",
    "    r1odds = sheet['C' + str(key)].value\n",
    "    rand = random.random()\n",
    "    if r1odds > rand:\n",
    "        print(team)\n",
    "    else:\n",
    "        print(pair)"
   ]
  }
 ],
 "metadata": {
  "kernelspec": {
   "display_name": "Python 3",
   "language": "python",
   "name": "python3"
  },
  "language_info": {
   "codemirror_mode": {
    "name": "ipython",
    "version": 3
   },
   "file_extension": ".py",
   "mimetype": "text/x-python",
   "name": "python",
   "nbconvert_exporter": "python",
   "pygments_lexer": "ipython3",
   "version": "3.7.0"
  }
 },
 "nbformat": 4,
 "nbformat_minor": 2
}
